{
 "cells": [
  {
   "cell_type": "markdown",
   "id": "f9dff02c-ae00-4c64-a247-a3f314d5ff1e",
   "metadata": {},
   "source": [
    "## Idea 1\n",
    "\n",
    "* Start one pointer at the first index `0` and the other pointer at the last index `input.length - 1`.\n",
    "* Use a while loop until the pointers are equal to each other.\n",
    "* At each iteration of the loop, move the pointers towards each other. This means either increment the pointer that started at the first index, decrement the pointer that started at the last index, or both. Deciding which pointers to move will depend on the problem we are trying to solve.\n",
    "\n",
    "```python\n",
    "function fn(arr):\n",
    "    left = 0\n",
    "    right = arr.length - 1\n",
    "\n",
    "    while left < right:\n",
    "        Do some logic here depending on the problem\n",
    "        Do some more logic here to decide on one of the following:\n",
    "            1. left++\n",
    "            2. right--\n",
    "            3. Both left++ and right--\n",
    "```"
   ]
  },
  {
   "cell_type": "markdown",
   "id": "2de88326-720f-408f-9226-ead585f0d581",
   "metadata": {},
   "source": [
    "### Example 1 \n",
    "\n",
    "**Given a string s, return true if it is a palindrome, false otherwise.**  \n",
    "\n",
    "A string is a palindrome if it reads the same forward as backward. That means, after reversing it, it is still the same string. For example: \"abcdcba\", or \"racecar\"."
   ]
  },
  {
   "cell_type": "code",
   "execution_count": 1,
   "id": "a6784883-addb-4363-a313-e88ae6457adb",
   "metadata": {},
   "outputs": [],
   "source": [
    "def check_if_palindrome(string):\n",
    "    left = 0\n",
    "    right = len(string) - 1\n",
    "    \n",
    "    while left < right:\n",
    "        if string[left] != string[right]:\n",
    "            return False\n",
    "        left += 1\n",
    "        right -= 1\n",
    "        \n",
    "    return True"
   ]
  },
  {
   "cell_type": "code",
   "execution_count": 2,
   "id": "eaff6e86-c144-456f-9cc0-b29623aba222",
   "metadata": {},
   "outputs": [
    {
     "data": {
      "text/plain": [
       "False"
      ]
     },
     "execution_count": 2,
     "metadata": {},
     "output_type": "execute_result"
    }
   ],
   "source": [
    "check_if_palindrome('test')"
   ]
  },
  {
   "cell_type": "code",
   "execution_count": 3,
   "id": "a619688f-0fc8-4f5b-82cd-3d3a1a86eed6",
   "metadata": {},
   "outputs": [
    {
     "data": {
      "text/plain": [
       "True"
      ]
     },
     "execution_count": 3,
     "metadata": {},
     "output_type": "execute_result"
    }
   ],
   "source": [
    "check_if_palindrome('abcdcba')"
   ]
  },
  {
   "cell_type": "code",
   "execution_count": 5,
   "id": "5b4e6e5f-c6e2-40b7-9894-87cc3d7ea9b6",
   "metadata": {},
   "outputs": [
    {
     "data": {
      "text/plain": [
       "True"
      ]
     },
     "execution_count": 5,
     "metadata": {},
     "output_type": "execute_result"
    }
   ],
   "source": [
    "check_if_palindrome('a')"
   ]
  },
  {
   "cell_type": "markdown",
   "id": "30a5c8dc-5b13-4993-b10b-0baf5545941d",
   "metadata": {},
   "source": [
    "### Example 2\n",
    "\n",
    "**Given a sorted array of unique integers and a target integer, return true if there exists a pair of numbers that sum to target, false otherwise. This problem is similar to Two Sum. (In Two Sum, the input is not sorted).**\n",
    "\n",
    "For example, given `nums = [1, 2, 4, 6, 8, 9, 14, 15]` and `target = 13`, return `true` because 4 + 9 = 13."
   ]
  },
  {
   "cell_type": "code",
   "execution_count": 8,
   "id": "67ba29d0-ccbe-4fee-86d4-307cccef1081",
   "metadata": {},
   "outputs": [],
   "source": [
    "def check_for_target(nums, target):\n",
    "    left = 0\n",
    "    right = len(nums) - 1\n",
    "    \n",
    "    while left < right:\n",
    "        cur_sum = nums[left] + nums[right]\n",
    "        if cur_sum == target:\n",
    "            return True\n",
    "        elif cur_sum > target:\n",
    "            right -= 1\n",
    "        else:\n",
    "            left += 1\n",
    "            \n",
    "    return False"
   ]
  },
  {
   "cell_type": "code",
   "execution_count": 9,
   "id": "6fb42285-ae9c-4aa4-80fb-8ba6db1dbb9a",
   "metadata": {},
   "outputs": [
    {
     "data": {
      "text/plain": [
       "True"
      ]
     },
     "execution_count": 9,
     "metadata": {},
     "output_type": "execute_result"
    }
   ],
   "source": [
    "check_for_target([1, 2, 4, 6, 8, 9, 14, 15], 13)"
   ]
  },
  {
   "cell_type": "code",
   "execution_count": 10,
   "id": "04d15560-56ed-4789-a808-a5630e30555d",
   "metadata": {},
   "outputs": [
    {
     "data": {
      "text/plain": [
       "True"
      ]
     },
     "execution_count": 10,
     "metadata": {},
     "output_type": "execute_result"
    }
   ],
   "source": [
    "check_for_target([1, 2, 3], 3)"
   ]
  },
  {
   "cell_type": "markdown",
   "id": "34f29e84-59b4-41bc-9200-df399af51406",
   "metadata": {},
   "source": [
    "# Idea 2\n",
    "\n",
    "* Create two pointers, one for each iterable. Each pointer should start at the first index.\n",
    "* Use a while loop until one of the pointers reaches the end of its iterable.\n",
    "* At each iteration of the loop, move the pointers forward. This means incrementing either one of the pointers or both of the pointers. Deciding which pointers to move will depend on the problem we are trying to solve.\n",
    "**Because our while loop will stop when one of the pointers reaches the end, the other pointer will not be at the end of its respective iterable when the loop finishes.** Sometimes, we need to iterate through all elements - if this is the case, you will need to write extra code here to make sure both iterables are exhausted.\n",
    "\n",
    "```python\n",
    "function fn(arr1, arr2):\n",
    "    i = j = 0\n",
    "    while i < arr1.length AND j < arr2.length:\n",
    "        Do some logic here depending on the problem\n",
    "        Do some more logic here to decide on one of the following:\n",
    "            1. i++\n",
    "            2. j++\n",
    "            3. Both i++ and j++\n",
    "\n",
    "    // Step 4: make sure both iterables are exhausted\n",
    "    // Note that only one of these loops would run\n",
    "    while i < arr1.length:\n",
    "        Do some logic here depending on the problem\n",
    "        i++\n",
    "\n",
    "    while j < arr2.length:\n",
    "        Do some logic here depending on the problem\n",
    "        j++\n",
    "```"
   ]
  },
  {
   "cell_type": "markdown",
   "id": "dbd733c1-a725-4006-9525-4393e4f3405a",
   "metadata": {},
   "source": [
    "### Example 3 \n",
    "\n",
    "**Given two sorted integer arrays `arr1` and `arr2`, return a new array that combines both of them and is also sorted.**"
   ]
  },
  {
   "cell_type": "code",
   "execution_count": 10,
   "id": "b1cbfefd-6545-4c17-aac7-018a771a4ef1",
   "metadata": {},
   "outputs": [],
   "source": [
    "def combine(arr1, arr2):\n",
    "    i = j = 0\n",
    "    result = []\n",
    "    \n",
    "    while i < len(arr1) and j < len(arr2):\n",
    "        if arr1[i] <= arr2[j]:\n",
    "            result.append(arr1[i])\n",
    "            i += 1\n",
    "        else:\n",
    "            result.append(arr2[j])            \n",
    "            j += 1\n",
    "\n",
    "    for k in range(i, len(arr1)):\n",
    "        result.append(arr1[k])\n",
    "    \n",
    "    for k in range(j, len(arr2)):\n",
    "        result.append(arr2[k])\n",
    "        \n",
    "    return result        "
   ]
  },
  {
   "cell_type": "code",
   "execution_count": 12,
   "id": "91322958-3f59-49be-a6aa-d77d41a54847",
   "metadata": {},
   "outputs": [
    {
     "data": {
      "text/plain": [
       "[1, 1, 2, 3, 4, 6]"
      ]
     },
     "execution_count": 12,
     "metadata": {},
     "output_type": "execute_result"
    }
   ],
   "source": [
    "combine([1, 2, 3], [1, 4, 6])"
   ]
  },
  {
   "cell_type": "markdown",
   "id": "99f9bbf7-1f83-4323-864a-eaa4711b648a",
   "metadata": {},
   "source": [
    "### Example 4 ([392. Is Subsequence.](https://leetcode.com/problems/is-subsequence/))\n",
    "\n",
    "**Given two strings `s` and `t`, return `true` if `s` is a subsequence of `t`, or `false` otherwise.**\n",
    "\n",
    "A subsequence of a string is a sequence of characters that can be obtained by deleting some (or none) of the characters from the original string, while maintaining the relative order of the remaining characters. For example, \"ace\" is a subsequence of \"abcde\" while \"aec\" is not."
   ]
  },
  {
   "cell_type": "code",
   "execution_count": 15,
   "id": "c1c66e3b-0109-483c-a560-b21d0323cfb2",
   "metadata": {},
   "outputs": [],
   "source": [
    "def is_subsequence(s, t):\n",
    "    i = j = 0\n",
    "    \n",
    "    while i < len(s) and j < len(t):\n",
    "        if s[i] == t[j]:\n",
    "            i += 1\n",
    "        j += 1\n",
    "        \n",
    "    return i == len(s)"
   ]
  },
  {
   "cell_type": "code",
   "execution_count": 20,
   "id": "7d907885-350b-40ab-872b-0a29bdc38d18",
   "metadata": {},
   "outputs": [
    {
     "data": {
      "text/plain": [
       "False"
      ]
     },
     "execution_count": 20,
     "metadata": {},
     "output_type": "execute_result"
    }
   ],
   "source": [
    "is_subsequence('aec', 'abcde')"
   ]
  },
  {
   "cell_type": "code",
   "execution_count": 21,
   "id": "3e0d84b6-40cc-41cf-8292-2ae931149f6c",
   "metadata": {},
   "outputs": [
    {
     "data": {
      "text/plain": [
       "True"
      ]
     },
     "execution_count": 21,
     "metadata": {},
     "output_type": "execute_result"
    }
   ],
   "source": [
    "is_subsequence('ace', 'abcde')"
   ]
  },
  {
   "cell_type": "code",
   "execution_count": 22,
   "id": "8576a5f8-bb54-4f78-ad59-2e8de4ff2e9c",
   "metadata": {},
   "outputs": [
    {
     "data": {
      "text/plain": [
       "False"
      ]
     },
     "execution_count": 22,
     "metadata": {},
     "output_type": "execute_result"
    }
   ],
   "source": [
    "is_subsequence('aec', '')"
   ]
  },
  {
   "cell_type": "markdown",
   "id": "9bdb42f2-21b6-4d64-a96f-262faedc48b7",
   "metadata": {},
   "source": [
    "## Homework"
   ]
  },
  {
   "cell_type": "markdown",
   "id": "b5677b34-456a-4a38-8535-705ce8ba8c4d",
   "metadata": {},
   "source": [
    "### Problem 1 ([344. Reverse String](https://leetcode.com/problems/reverse-string/description/))"
   ]
  },
  {
   "cell_type": "code",
   "execution_count": 23,
   "id": "0c5c3cca-d0eb-4d6c-9175-ebaf91e3f40b",
   "metadata": {},
   "outputs": [],
   "source": [
    "def reverse_string(s: list[str]) -> list[str]:\n",
    "    left = 0\n",
    "    right = len(s) - 1\n",
    "    \n",
    "    while left < right:\n",
    "        s[left], s[right] = s[right], s[left]\n",
    "        left += 1\n",
    "        right -= 1\n",
    "        \n",
    "    return s"
   ]
  },
  {
   "cell_type": "code",
   "execution_count": 24,
   "id": "399841fc-4fe5-447c-9938-6c30a9959e9d",
   "metadata": {},
   "outputs": [
    {
     "data": {
      "text/plain": [
       "['o', 'l', 'l', 'e', 'h']"
      ]
     },
     "execution_count": 24,
     "metadata": {},
     "output_type": "execute_result"
    }
   ],
   "source": [
    "reverse_string(['h', 'e', 'l', 'l', 'o'])"
   ]
  },
  {
   "cell_type": "markdown",
   "id": "e0968c37-77bc-4588-9db7-349498ae5c6b",
   "metadata": {},
   "source": [
    "### Problem 2 ([977. Squares of a Sorted Array](https://leetcode.com/problems/squares-of-a-sorted-array/description/))"
   ]
  },
  {
   "cell_type": "code",
   "execution_count": 26,
   "id": "f2575157-2857-4008-868e-d2437194fbed",
   "metadata": {},
   "outputs": [],
   "source": [
    "def sorted_squares(nums: list[int]) -> list[int]:\n",
    "    ans = [0] * len(nums)\n",
    "    left = 0\n",
    "    right = len(nums) - 1\n",
    "    k = -1\n",
    "    \n",
    "    while left <= right:\n",
    "        if abs(nums[left]) >= abs(nums[right]):\n",
    "            ans[k] = nums[left] ** 2\n",
    "            left += 1\n",
    "        else:\n",
    "            ans[k] = nums[right] ** 2\n",
    "            right -= 1\n",
    "        k -= 1\n",
    "        \n",
    "    return ans"
   ]
  },
  {
   "cell_type": "code",
   "execution_count": 29,
   "id": "070e35f3-e941-4f9c-bd40-93531962b10c",
   "metadata": {},
   "outputs": [
    {
     "data": {
      "text/plain": [
       "[0, 1, 9, 16, 100]"
      ]
     },
     "execution_count": 29,
     "metadata": {},
     "output_type": "execute_result"
    }
   ],
   "source": [
    "sorted_squares([-4, -1, 0, 3, 10])"
   ]
  },
  {
   "cell_type": "code",
   "execution_count": 30,
   "id": "dd0e0535-59a1-40f0-a09d-c077985a4187",
   "metadata": {},
   "outputs": [
    {
     "data": {
      "text/plain": [
       "[1, 16]"
      ]
     },
     "execution_count": 30,
     "metadata": {},
     "output_type": "execute_result"
    }
   ],
   "source": [
    "sorted_squares([-4, -1,])"
   ]
  },
  {
   "cell_type": "code",
   "execution_count": 32,
   "id": "354c10e4-2e16-4d71-a77b-329c2240aaf0",
   "metadata": {},
   "outputs": [
    {
     "data": {
      "text/plain": [
       "[4, 9, 9, 49, 121]"
      ]
     },
     "execution_count": 32,
     "metadata": {},
     "output_type": "execute_result"
    }
   ],
   "source": [
    "sorted_squares([-7, -3, 2, 3, 11])"
   ]
  },
  {
   "cell_type": "markdown",
   "id": "8a38d586-1a58-4177-9c90-f105d3ae169e",
   "metadata": {},
   "source": [
    "### Problem 3 ([557. Reverse Words in a String III](https://leetcode.com/problems/reverse-words-in-a-string-iii/description/))"
   ]
  },
  {
   "cell_type": "code",
   "execution_count": 37,
   "id": "ca6ea67f-9735-4275-bd5c-806f35cb023e",
   "metadata": {},
   "outputs": [],
   "source": [
    "def reverse_words(s: str) -> str:\n",
    "    arr = list(s)\n",
    "    left = 0\n",
    "\n",
    "    for i in range(len(arr)):\n",
    "        if arr[i] == ' ' or i == len(arr) - 1:\n",
    "            right = i - 1 if arr[i] == ' ' else i\n",
    "            while left < right:\n",
    "                arr[left], arr[right] = arr[right], arr[left]\n",
    "                left += 1\n",
    "                right -= 1\n",
    "            left = i + 1\n",
    "    return ''.join(arr)"
   ]
  },
  {
   "cell_type": "code",
   "execution_count": 38,
   "id": "392a8f6f-1635-4a3b-9a54-8383c39f703a",
   "metadata": {},
   "outputs": [
    {
     "data": {
      "text/plain": [
       "'steL ekat edoCteeL tsetnoc'"
      ]
     },
     "execution_count": 38,
     "metadata": {},
     "output_type": "execute_result"
    }
   ],
   "source": [
    "reverse_words('Lets take LeetCode contest')"
   ]
  },
  {
   "cell_type": "markdown",
   "id": "171b5493-f6b1-4a60-9482-64e69675f55f",
   "metadata": {},
   "source": [
    "### Problem 4 ([917. Reverse Only Letters](https://leetcode.com/problems/reverse-only-letters/description/))"
   ]
  },
  {
   "cell_type": "code",
   "execution_count": null,
   "id": "b68ff2eb-be30-4e27-8a57-5cf42ddcc6dd",
   "metadata": {},
   "outputs": [],
   "source": [
    "# Input: s = \"a-bC-dEf-ghIj\"\n",
    "# Output: \"j-Ih-gfE-dCba\""
   ]
  },
  {
   "cell_type": "code",
   "execution_count": 42,
   "id": "50ec90d6-7e7a-4414-8713-127aa082e47b",
   "metadata": {},
   "outputs": [],
   "source": [
    "def reverse_only_letters(s: str) -> str:\n",
    "    arr = list(s)\n",
    "    left = 0\n",
    "    right = len(s) - 1\n",
    "\n",
    "    while left < right:\n",
    "        if not arr[left].isalpha():\n",
    "            left += 1\n",
    "        elif not arr[right].isalpha():\n",
    "            right -= 1\n",
    "        else:\n",
    "            arr[left], arr[right] = arr[right], arr[left]\n",
    "            left += 1\n",
    "            right -= 1\n",
    "    return ''.join(arr)"
   ]
  },
  {
   "cell_type": "code",
   "execution_count": 43,
   "id": "50bcd41a-8f0d-471b-86f3-c5536eae972d",
   "metadata": {},
   "outputs": [
    {
     "data": {
      "text/plain": [
       "'j-Ih-gfE-dCba'"
      ]
     },
     "execution_count": 43,
     "metadata": {},
     "output_type": "execute_result"
    }
   ],
   "source": [
    "reverse_only_letters('a-bC-dEf-ghIj')"
   ]
  },
  {
   "cell_type": "markdown",
   "id": "841ef454-fad8-4986-baa8-1b2aef69944b",
   "metadata": {},
   "source": [
    "### Problem 5 ([2540. Minimum Common Value](https://leetcode.com/problems/minimum-common-value/description/))"
   ]
  },
  {
   "cell_type": "code",
   "execution_count": 44,
   "id": "b9a1aa7d-5c4a-4d26-bf66-a664efdfb436",
   "metadata": {},
   "outputs": [],
   "source": [
    "def get_common(nums1: list[int], nums2: list[int]) -> int:\n",
    "    i = j = 0\n",
    "    while i < len(nums1) and j < len(nums2):\n",
    "        if nums1[i] == nums2[j]:\n",
    "            return nums1[i]\n",
    "        elif nums1[i] > nums2[j]:\n",
    "            j += 1\n",
    "        else:\n",
    "            i += 1\n",
    "    return -1"
   ]
  },
  {
   "cell_type": "code",
   "execution_count": 50,
   "id": "58257bbf-fd1c-494f-b534-3bad97d17f69",
   "metadata": {},
   "outputs": [
    {
     "data": {
      "text/plain": [
       "6"
      ]
     },
     "execution_count": 50,
     "metadata": {},
     "output_type": "execute_result"
    }
   ],
   "source": [
    "get_common([4, 5, 6, 7], [1, 1, 2, 3, 6, 7])"
   ]
  },
  {
   "cell_type": "markdown",
   "id": "9dc525e0-4055-46fe-8b34-6359a7abb15a",
   "metadata": {},
   "source": [
    "### Problem 6 ([283. Move Zeroes](https://leetcode.com/problems/move-zeroes/description/))"
   ]
  },
  {
   "cell_type": "code",
   "execution_count": 56,
   "id": "8f0099d1-8640-412a-8c9a-15e92bc01e9c",
   "metadata": {},
   "outputs": [],
   "source": [
    "def move_zeroes(nums: list[int]) -> list[int]:\n",
    "    zero_pointer = 0\n",
    "    \n",
    "    for i in range(len(nums)):\n",
    "        if nums[i] != 0:\n",
    "            nums[zero_pointer], nums[i] = nums[i], nums[zero_pointer]\n",
    "            zero_pointer += 1\n",
    "            \n",
    "    return nums"
   ]
  },
  {
   "cell_type": "code",
   "execution_count": 57,
   "id": "cbed5bdf-2d7f-4b86-b47b-ee14049ceb05",
   "metadata": {},
   "outputs": [
    {
     "data": {
      "text/plain": [
       "[1, 2, 3, 0, 0]"
      ]
     },
     "execution_count": 57,
     "metadata": {},
     "output_type": "execute_result"
    }
   ],
   "source": [
    "move_zeroes([0, 0, 1, 2, 3])"
   ]
  },
  {
   "cell_type": "markdown",
   "id": "8422a7a7-3029-4eb4-88d8-070266e3e1bc",
   "metadata": {},
   "source": [
    "### Problem 7 ([2000. Reverse Prefix of Word](https://leetcode.com/problems/reverse-prefix-of-word/description/))"
   ]
  },
  {
   "cell_type": "code",
   "execution_count": 52,
   "id": "85cb7a9e-5880-44a8-a36f-2e7cab6e0f9a",
   "metadata": {},
   "outputs": [],
   "source": [
    "def reverse_prefix(word: str, ch: str) -> str:\n",
    "    arr = list(word)\n",
    "    left = 0\n",
    "    \n",
    "    for right in range(len(arr)):\n",
    "        if arr[right] == ch:\n",
    "            while left < right:\n",
    "                arr[left], arr[right] = arr[right], arr[left]\n",
    "                left += 1\n",
    "                right -= 1\n",
    "            return ''.join(arr)\n",
    "            \n",
    "    return word"
   ]
  },
  {
   "cell_type": "code",
   "execution_count": 54,
   "id": "4fda1409-b7f0-4f00-96d5-c819f174b38d",
   "metadata": {},
   "outputs": [
    {
     "data": {
      "text/plain": [
       "'zxyxxe'"
      ]
     },
     "execution_count": 54,
     "metadata": {},
     "output_type": "execute_result"
    }
   ],
   "source": [
    "reverse_prefix('xyxzxe', 'z')"
   ]
  },
  {
   "cell_type": "code",
   "execution_count": null,
   "id": "4d1412a8-7e1a-48bf-9fe8-1f58e1395238",
   "metadata": {},
   "outputs": [],
   "source": []
  }
 ],
 "metadata": {
  "kernelspec": {
   "display_name": "Python 3 (ipykernel)",
   "language": "python",
   "name": "python3"
  },
  "language_info": {
   "codemirror_mode": {
    "name": "ipython",
    "version": 3
   },
   "file_extension": ".py",
   "mimetype": "text/x-python",
   "name": "python",
   "nbconvert_exporter": "python",
   "pygments_lexer": "ipython3",
   "version": "3.11.5"
  }
 },
 "nbformat": 4,
 "nbformat_minor": 5
}
